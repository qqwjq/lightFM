{
 "cells": [
  {
   "cell_type": "markdown",
   "metadata": {},
   "source": [
    "# Using different learning schedules\n",
    "`lightfm` implements two learning schedules: adagrad and adadelta. Neither is clearly superior, and, like other hyperparameter choices, the best learning schedule will differ based on the problem at hand.\n",
    "\n",
    "This example tries both at the Movielens 100k dataset.\n",
    "\n",
    "## Preliminaries\n",
    "Let's first get the data and define the evaluations functions."
   ]
  },
  {
   "cell_type": "code",
   "execution_count": 1,
   "metadata": {
    "collapsed": false
   },
   "outputs": [],
   "source": [
    "import numpy as np\n",
    "import data\n",
    "\n",
    "%matplotlib inline\n",
    "\n",
    "import matplotlib\n",
    "import numpy as np\n",
    "import matplotlib.pyplot as plt\n",
    "\n",
    "from lightfm import LightFM\n",
    "\n",
    "train, test = data.get_movielens_data()\n",
    "\n",
    "train.data = np.ones_like(train.data)\n",
    "test.data = np.ones_like(test.data)\n",
    "\n",
    "from sklearn.metrics import roc_auc_score\n",
    "\n",
    "\n",
    "def precision_at_k(model, ground_truth, k):\n",
    "    \"\"\"\n",
    "    Measure precision at k for model and ground truth.\n",
    "\n",
    "    Arguments:\n",
    "    - lightFM instance model\n",
    "    - sparse matrix ground_truth (no_users, no_items)\n",
    "    - int k\n",
    "\n",
    "    Returns:\n",
    "    - float precision@k\n",
    "    \"\"\"\n",
    "\n",
    "    ground_truth = ground_truth.tocsr()\n",
    "\n",
    "    no_users, no_items = ground_truth.shape\n",
    "\n",
    "    pid_array = np.arange(no_items, dtype=np.int32)\n",
    "\n",
    "    precisions = []\n",
    "\n",
    "    for user_id, row in enumerate(ground_truth):\n",
    "        uid_array = np.empty(no_items, dtype=np.int32)\n",
    "        uid_array.fill(user_id)\n",
    "        predictions = model.predict(uid_array, pid_array, num_threads=4)\n",
    "\n",
    "        top_k = set(np.argsort(-predictions)[:k])\n",
    "        true_pids = set(row.indices[row.data == 1])\n",
    "\n",
    "        if true_pids:\n",
    "            precisions.append(len(top_k & true_pids) / float(k))\n",
    "\n",
    "    return sum(precisions) / len(precisions)\n",
    "\n",
    "\n",
    "def full_auc(model, ground_truth):\n",
    "    \"\"\"\n",
    "    Measure AUC for model and ground truth on all items.\n",
    "\n",
    "    Arguments:\n",
    "    - lightFM instance model\n",
    "    - sparse matrix ground_truth (no_users, no_items)\n",
    "\n",
    "    Returns:\n",
    "    - float AUC\n",
    "    \"\"\"\n",
    "\n",
    "    ground_truth = ground_truth.tocsr()\n",
    "\n",
    "    no_users, no_items = ground_truth.shape\n",
    "\n",
    "    pid_array = np.arange(no_items, dtype=np.int32)\n",
    "\n",
    "    scores = []\n",
    "\n",
    "    for user_id, row in enumerate(ground_truth):\n",
    "        uid_array = np.empty(no_items, dtype=np.int32)\n",
    "        uid_array.fill(user_id)\n",
    "        predictions = model.predict(uid_array, pid_array, num_threads=4)\n",
    "\n",
    "        true_pids = row.indices[row.data == 1]\n",
    "\n",
    "        grnd = np.zeros(no_items, dtype=np.int32)\n",
    "        grnd[true_pids] = 1\n",
    "\n",
    "        if len(true_pids):\n",
    "            scores.append(roc_auc_score(grnd, predictions))\n",
    "\n",
    "    return sum(scores) / len(scores)"
   ]
  },
  {
   "cell_type": "markdown",
   "metadata": {},
   "source": [
    "## Experiment\n",
    "To evaluate the performance of both learning schedules, let's create two models and run each for a number of epochs, measuring the ROC AUC on the test set at the end of each epoch."
   ]
  },
  {
   "cell_type": "code",
   "execution_count": 2,
   "metadata": {
    "collapsed": false
   },
   "outputs": [],
   "source": [
    "alpha = 1e-3\n",
    "epochs = 70\n",
    "\n",
    "adagrad_model = LightFM(no_components=30, loss='warp', learning_schedule='adagrad',\n",
    "                       user_alpha=alpha, item_alpha=alpha)\n",
    "adadelta_model = LightFM(no_components=30, loss='warp', learning_schedule='adadelta',\n",
    "                        user_alpha=alpha, item_alpha=alpha)\n",
    "\n",
    "adagrad_auc = []\n",
    "\n",
    "for epoch in range(epochs):\n",
    "    adagrad_model.fit_partial(train, epochs=1)\n",
    "    adagrad_auc.append(full_auc(adagrad_model, test))\n",
    "    \n",
    "    \n",
    "adadelta_auc = []\n",
    "\n",
    "for epoch in range(epochs):\n",
    "    adadelta_model.fit_partial(train, epochs=1)\n",
    "    adadelta_auc.append(full_auc(adadelta_model, test))"
   ]
  },
  {
   "cell_type": "markdown",
   "metadata": {},
   "source": [
    "It looks like the adadelta gets to a better result at the beginning of training. However, as we keep running more epochs adagrad wins out, converging to a better final solution."
   ]
  },
  {
   "cell_type": "code",
   "execution_count": 3,
   "metadata": {
    "collapsed": false
   },
   "outputs": [
    {
     "data": {
      "image/png": "[encoded data removed]",
      "text/plain": [
       "<matplotlib.figure.Figure at 0x7facb420f810>"
      ]
     },
     "metadata": {},
     "output_type": "display_data"
    }
   ],
   "source": [
    "x = np.arange(len(adagrad_auc))\n",
    "plt.plot(x, np.array(adagrad_auc))\n",
    "plt.plot(x, np.array(adadelta_auc))\n",
    "plt.legend(['adagrad', 'adadelta'], loc='lower right')\n",
    "plt.show()"
   ]
  },
  {
   "cell_type": "markdown",
   "metadata": {
    "collapsed": true
   },
   "source": [
    "We can try the same for the k-OS loss."
   ]
  },
  {
   "cell_type": "code",
   "execution_count": 4,
   "metadata": {
    "collapsed": false
   },
   "outputs": [],
   "source": [
    "alpha = 1e-3\n",
    "epochs = 70\n",
    "\n",
    "adagrad_model = LightFM(no_components=30, loss='warp-kos', learning_schedule='adagrad',\n",
    "                       user_alpha=alpha, item_alpha=alpha)\n",
    "adadelta_model = LightFM(no_components=30, loss='warp-kos', learning_schedule='adadelta',\n",
    "                        user_alpha=alpha, item_alpha=alpha)\n",
    "\n",
    "adagrad_auc = []\n",
    "\n",
    "for epoch in range(epochs):\n",
    "    adagrad_model.fit_partial(train, epochs=1)\n",
    "    adagrad_auc.append(full_auc(adagrad_model, test))\n",
    "    \n",
    "    \n",
    "adadelta_auc = []\n",
    "\n",
    "for epoch in range(epochs):\n",
    "    adadelta_model.fit_partial(train, epochs=1)\n",
    "    adadelta_auc.append(full_auc(adadelta_model, test))"
   ]
  },
  {
   "cell_type": "code",
   "execution_count": 5,
   "metadata": {
    "collapsed": false
   },
   "outputs": [
    {
     "data": {
      "image/png": "[encoded data removed]",
      "text/plain": [
       "<matplotlib.figure.Figure at 0x7fac901f0c10>"
      ]
     },
     "metadata": {},
     "output_type": "display_data"
    }
   ],
   "source": [
    "x = np.arange(len(adagrad_auc))\n",
    "plt.plot(x, np.array(adagrad_auc))\n",
    "plt.plot(x, np.array(adadelta_auc))\n",
    "plt.legend(['adagrad', 'adadelta'], loc='lower right')\n",
    "plt.show()"
   ]
  }
 ],
 "metadata": {
  "kernelspec": {
   "display_name": "Python 2",
   "language": "python",
   "name": "python2"
  },
  "language_info": {
   "codemirror_mode": {
    "name": "ipython",
    "version": 2
   },
   "file_extension": ".py",
   "mimetype": "text/x-python",
   "name": "python",
   "nbconvert_exporter": "python",
   "pygments_lexer": "ipython2",
   "version": "2.7.8"
  }
 },
 "nbformat": 4,
 "nbformat_minor": 0
}
